{
 "cells": [
  {
   "cell_type": "markdown",
   "metadata": {},
   "source": [
    "# Quiz Game\n",
    "## Objective\n",
    "Create an interactive Python quiz game that tests the user's knowledge with multiple-choice questions.\n",
    "\n",
    "## Features\n",
    "### Add Questions\n",
    "Include a predefined set of questions and answers.\n",
    "Support for multiple-choice options.\n",
    "\n",
    "### Play the Quiz:\n",
    "\n",
    "Randomly select questions from the question pool.\n",
    "Provide immediate feedback on whether the answer is correct.\n",
    "Score Calculation:\n",
    "\n",
    "Track the user's score and display it at the end of the quiz.\n",
    "Timed Mode:\n",
    "\n",
    "Add a timer for each question to make it more challenging."
   ]
  }
 ],
 "metadata": {
  "language_info": {
   "name": "python"
  }
 },
 "nbformat": 4,
 "nbformat_minor": 2
}
