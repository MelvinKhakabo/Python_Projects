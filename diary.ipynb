{
 "cells": [
  {
   "cell_type": "markdown",
   "metadata": {},
   "source": [
    "# Personal Diary App\n",
    "## Objective\n",
    "Develop a Python-based personal diary application where users can write, view, edit, and search their diary entries.\n",
    "\n",
    "## Features\n",
    "### Add Diary Entries\n",
    "Users can create diary entries with a date, title, and detailed notes.\n",
    "\n",
    "### View Diary Entries\n",
    "Browse all entries or filter them by date or title.\n",
    "\n",
    "### Edit or Delete Entries\n",
    "Modify or remove existing entries.\n",
    "\n",
    "### Search Entries\n",
    "Search entries by keywords in the title or content.\n",
    "\n",
    "### Password Protection\n",
    "Optionally protect the diary with a password to ensure privacy.\n",
    "\n",
    "### Save & Load Entries\n",
    "Store diary entries in a file (e.g., JSON or SQLite database) for long-term use."
   ]
  },
  {
   "cell_type": "markdown",
   "metadata": {},
   "source": []
  }
 ],
 "metadata": {
  "language_info": {
   "name": "python"
  }
 },
 "nbformat": 4,
 "nbformat_minor": 2
}
