{
 "cells": [
  {
   "cell_type": "markdown",
   "metadata": {},
   "source": [
    "# The Hacker News API \n",
    "\n",
    "Let’s make an API call that returns the IDs of the current top articles \n",
    "on Hacker News, and then examine each of the top articles"
   ]
  },
  {
   "cell_type": "markdown",
   "metadata": {},
   "source": [
    "_Import necessary Requests_"
   ]
  },
  {
   "cell_type": "code",
   "execution_count": 1,
   "metadata": {},
   "outputs": [],
   "source": [
    "import requests\n",
    "\n",
    "from operator import itemgetter"
   ]
  },
  {
   "cell_type": "markdown",
   "metadata": {},
   "source": [
    "_Make an API call and store the response_"
   ]
  },
  {
   "cell_type": "code",
   "execution_count": 2,
   "metadata": {},
   "outputs": [
    {
     "name": "stdout",
     "output_type": "stream",
     "text": [
      "Status code: 200\n"
     ]
    }
   ],
   "source": [
    "url = 'https://hacker-news.firebaseio.com/v0/topstories.json'\n",
    "r = requests.get(url)\n",
    "print(f\"Status code: {r.status_code}\")"
   ]
  },
  {
   "cell_type": "markdown",
   "metadata": {},
   "source": [
    "_Process information about each submission_"
   ]
  },
  {
   "cell_type": "code",
   "execution_count": 3,
   "metadata": {},
   "outputs": [
    {
     "name": "stdout",
     "output_type": "stream",
     "text": [
      "id: 42821741\n",
      "title: To make electricity cheaper and greener, connect the world's grids\n",
      "url: https://www.economist.com/leaders/2025/01/23/to-make-electricity-cheaper-and-greener-connect-the-worlds-grids\n",
      "comments: 21\n",
      "id: 42821457\n",
      "title: Show HN: I built a DIY plane spotting system at home\n",
      "url: https://pilane.obviy.us/\n",
      "comments: 2\n",
      "id: 42821519\n",
      "title: Pixelfed Hit 500K Users\n",
      "url: https://fedidb.org/software/pixelfed\n",
      "comments: 7\n",
      "id: 42810293\n",
      "title: How far can you get in 40 minutes from each subway station in NYC?\n",
      "url: https://subwaysheds.com/#11.27/40.7427/-73.9869\n",
      "comments: 44\n",
      "id: 42789670\n",
      "title: I got OpenAI o1 to play the boardgame Codenames and it's super good\n",
      "url: https://suveenellawela.com/thoughts/codenames-ai\n",
      "comments: 44\n",
      "id: 42808038\n",
      "title: How to build your own ZX80/ZX81 (2019)\n",
      "url: http://searle.x10host.com/zx80/zx80.html\n",
      "comments: 9\n",
      "id: 42803774\n",
      "title: An overview of gradient descent optimization algorithms (2016)\n",
      "url: https://www.ruder.io/optimizing-gradient-descent/\n",
      "comments: 12\n",
      "id: 42820419\n",
      "title: The Mythical IO-Bound Rails App\n",
      "url: https://byroot.github.io/ruby/performance/2025/01/23/the-mythical-io-bound-rails-app.html\n",
      "comments: 11\n",
      "id: 42795646\n",
      "title: Life lessons from the first half-century of my career\n",
      "url: https://cacm.acm.org/opinion/life-lessons-from-the-first-half-century-of-my-career/\n",
      "comments: 77\n",
      "id: 42821531\n",
      "title: Advent of Code 2024 and BQN\n",
      "url: https://nrk.neocities.org/articles/aoc24-bqn\n",
      "comments: 3\n",
      "id: 42821611\n",
      "title: Hacker infects 18,000 \"script kiddies\" with fake malware builder\n",
      "url: https://www.bleepingcomputer.com/news/security/hacker-infects-18-000-script-kiddies-with-fake-malware-builder/\n",
      "comments: 6\n",
      "id: 42814110\n",
      "title: Show HN: Cs16.css – CSS library based on Counter Strike 1.6 UI\n",
      "url: https://cs16.samke.me\n",
      "comments: 119\n",
      "id: 42821138\n",
      "title: Inboxbooster (YC W17) Is Hiring\n",
      "url: https://www.ycombinator.com/companies/inboxbooster/jobs/ci7Hwk0-jvm-bytecode-engineer-full-remote\n",
      "comments: 0\n",
      "id: 42819262\n",
      "title: TinyZero\n",
      "url: https://github.com/Jiayi-Pan/TinyZero\n",
      "comments: 22\n",
      "id: 42821911\n",
      "title: Doorbell camera catches rare footage of meteorite striking home's front walkway\n",
      "url: https://www.cnn.com/2025/01/22/science/meteorite-strike-doorbell-camera/index.html\n",
      "comments: 6\n",
      "id: 42818278\n",
      "title: File Explorer is merged to Helix editor\n",
      "url: https://github.com/helix-editor/helix/pull/11285\n",
      "comments: 23\n",
      "id: 42796496\n",
      "title: Show HN: Trolling SMS spammers with Ollama\n",
      "url: https://evan.widloski.com/software/sms_llm/\n",
      "comments: 93\n",
      "id: 42779330\n",
      "title: Show HN: Using YOLO to Detect Office Chairs in 40M Hotel Photos\n"
     ]
    },
    {
     "ename": "KeyError",
     "evalue": "'url'",
     "output_type": "error",
     "traceback": [
      "\u001b[1;31m---------------------------------------------------------------------------\u001b[0m",
      "\u001b[1;31mKeyError\u001b[0m                                  Traceback (most recent call last)",
      "Cell \u001b[1;32mIn[3], line 8\u001b[0m\n\u001b[0;32m      6\u001b[0m \u001b[38;5;28mprint\u001b[39m(\u001b[38;5;124mf\u001b[39m\u001b[38;5;124m\"\u001b[39m\u001b[38;5;124mid: \u001b[39m\u001b[38;5;132;01m{\u001b[39;00msubmission_r\u001b[38;5;241m.\u001b[39mjson()[\u001b[38;5;124m'\u001b[39m\u001b[38;5;124mid\u001b[39m\u001b[38;5;124m'\u001b[39m]\u001b[38;5;132;01m}\u001b[39;00m\u001b[38;5;124m\"\u001b[39m)\n\u001b[0;32m      7\u001b[0m \u001b[38;5;28mprint\u001b[39m(\u001b[38;5;124mf\u001b[39m\u001b[38;5;124m\"\u001b[39m\u001b[38;5;124mtitle: \u001b[39m\u001b[38;5;132;01m{\u001b[39;00msubmission_r\u001b[38;5;241m.\u001b[39mjson()[\u001b[38;5;124m'\u001b[39m\u001b[38;5;124mtitle\u001b[39m\u001b[38;5;124m'\u001b[39m]\u001b[38;5;132;01m}\u001b[39;00m\u001b[38;5;124m\"\u001b[39m)\n\u001b[1;32m----> 8\u001b[0m \u001b[38;5;28mprint\u001b[39m(\u001b[38;5;124mf\u001b[39m\u001b[38;5;124m\"\u001b[39m\u001b[38;5;124murl: \u001b[39m\u001b[38;5;132;01m{\u001b[39;00m\u001b[43msubmission_r\u001b[49m\u001b[38;5;241;43m.\u001b[39;49m\u001b[43mjson\u001b[49m\u001b[43m(\u001b[49m\u001b[43m)\u001b[49m\u001b[43m[\u001b[49m\u001b[38;5;124;43m'\u001b[39;49m\u001b[38;5;124;43murl\u001b[39;49m\u001b[38;5;124;43m'\u001b[39;49m\u001b[43m]\u001b[49m\u001b[38;5;132;01m}\u001b[39;00m\u001b[38;5;124m\"\u001b[39m)\n\u001b[0;32m      9\u001b[0m \u001b[38;5;28mprint\u001b[39m(\u001b[38;5;124mf\u001b[39m\u001b[38;5;124m\"\u001b[39m\u001b[38;5;124mcomments: \u001b[39m\u001b[38;5;132;01m{\u001b[39;00msubmission_r\u001b[38;5;241m.\u001b[39mjson()\u001b[38;5;241m.\u001b[39mget(\u001b[38;5;124m'\u001b[39m\u001b[38;5;124mdescendants\u001b[39m\u001b[38;5;124m'\u001b[39m,\u001b[38;5;250m \u001b[39m\u001b[38;5;241m0\u001b[39m)\u001b[38;5;132;01m}\u001b[39;00m\u001b[38;5;124m\"\u001b[39m)\n\u001b[0;32m     10\u001b[0m submission_dict \u001b[38;5;241m=\u001b[39m {\n\u001b[0;32m     11\u001b[0m     \u001b[38;5;124m'\u001b[39m\u001b[38;5;124mtitle\u001b[39m\u001b[38;5;124m'\u001b[39m: submission_r\u001b[38;5;241m.\u001b[39mjson()[\u001b[38;5;124m'\u001b[39m\u001b[38;5;124mtitle\u001b[39m\u001b[38;5;124m'\u001b[39m],\n\u001b[0;32m     12\u001b[0m     \u001b[38;5;124m'\u001b[39m\u001b[38;5;124mlink\u001b[39m\u001b[38;5;124m'\u001b[39m: \u001b[38;5;124mf\u001b[39m\u001b[38;5;124m\"\u001b[39m\u001b[38;5;124mhttps://news.ycombinator.com/item?id=\u001b[39m\u001b[38;5;132;01m{\u001b[39;00msubmission_r\u001b[38;5;241m.\u001b[39mjson()[\u001b[38;5;124m'\u001b[39m\u001b[38;5;124mid\u001b[39m\u001b[38;5;124m'\u001b[39m]\u001b[38;5;132;01m}\u001b[39;00m\u001b[38;5;124m\"\u001b[39m,\n\u001b[0;32m     13\u001b[0m     \u001b[38;5;124m'\u001b[39m\u001b[38;5;124mcomments\u001b[39m\u001b[38;5;124m'\u001b[39m: submission_r\u001b[38;5;241m.\u001b[39mjson()\u001b[38;5;241m.\u001b[39mget(\u001b[38;5;124m'\u001b[39m\u001b[38;5;124mdescendants\u001b[39m\u001b[38;5;124m'\u001b[39m, \u001b[38;5;241m0\u001b[39m)\n\u001b[0;32m     14\u001b[0m }\n",
      "\u001b[1;31mKeyError\u001b[0m: 'url'"
     ]
    }
   ],
   "source": [
    "submission_ids = r.json()\n",
    "submission_dicts = []\n",
    "for submission_id in submission_ids[:30]:\n",
    "    url = f\"https://hacker-news.firebaseio.com/v0/item/{submission_id}.json\"\n",
    "    submission_r = requests.get(url)\n",
    "    print(f\"id: {submission_r.json()['id']}\")\n",
    "    print(f\"title: {submission_r.json()['title']}\")\n",
    "    print(f\"url: {submission_r.json()['url']}\")\n",
    "    print(f\"comments: {submission_r.json().get('descendants', 0)}\")\n",
    "    submission_dict = {\n",
    "        'title': submission_r.json()['title'],\n",
    "        'link': f\"https://news.ycombinator.com/item?id={submission_r.json()['id']}\",\n",
    "        'comments': submission_r.json().get('descendants', 0)\n",
    "    }\n",
    "    submission_dicts.append(submission_dict)\n",
    "submission_dicts = sorted(submission_dicts, key=itemgetter('comments'), reverse=True)"
   ]
  }
 ],
 "metadata": {
  "kernelspec": {
   "display_name": "Python 3",
   "language": "python",
   "name": "python3"
  },
  "language_info": {
   "codemirror_mode": {
    "name": "ipython",
    "version": 3
   },
   "file_extension": ".py",
   "mimetype": "text/x-python",
   "name": "python",
   "nbconvert_exporter": "python",
   "pygments_lexer": "ipython3",
   "version": "3.13.0"
  }
 },
 "nbformat": 4,
 "nbformat_minor": 2
}
