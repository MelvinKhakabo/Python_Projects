{
 "cells": [
  {
   "cell_type": "markdown",
   "metadata": {},
   "source": [
    "# API Integration using GitHub API to find Bioinformatics Projects on GitHub"
   ]
  },
  {
   "cell_type": "markdown",
   "metadata": {},
   "source": [
    "## Installing Requests\n"
   ]
  },
  {
   "cell_type": "markdown",
   "metadata": {},
   "source": [
    "The requests package allows a Python program to easily request information from a website and examine the response that’s returned. To install requests, issue a command like the following:"
   ]
  },
  {
   "cell_type": "code",
   "execution_count": null,
   "metadata": {},
   "outputs": [],
   "source": [
    "#pip install --user requests  --- in the terminal"
   ]
  },
  {
   "cell_type": "markdown",
   "metadata": {},
   "source": [
    "## Processing an API Response"
   ]
  },
  {
   "cell_type": "markdown",
   "metadata": {},
   "source": [
    "Now we’ll begin to write a program to issue an API call and process the results by identifying the most starred Bioinformatics projects on GitHub"
   ]
  },
  {
   "cell_type": "code",
   "execution_count": 1,
   "metadata": {},
   "outputs": [
    {
     "name": "stdout",
     "output_type": "stream",
     "text": [
      "Name: cs-video-courses\n",
      "Stars: 67951\n",
      "Description: List of Computer Science courses with video lectures.\n",
      "URL: https://github.com/Developer-Y/cs-video-courses\n",
      "--------------------------------------------------\n",
      "Name: dash\n",
      "Stars: 21853\n",
      "Description: Data Apps & Dashboards for Python. No JavaScript Required.\n",
      "URL: https://github.com/plotly/dash\n",
      "--------------------------------------------------\n",
      "Name: bioinformatics\n",
      "Stars: 5737\n",
      "Description: :microscope: Path to a free self-taught education in Bioinformatics!\n",
      "URL: https://github.com/ossu/bioinformatics\n",
      "--------------------------------------------------\n",
      "Name: biopython\n",
      "Stars: 4467\n",
      "Description: Official git repository for Biopython (originally converted from CVS)\n",
      "URL: https://github.com/biopython/biopython\n",
      "--------------------------------------------------\n",
      "Name: deepvariant\n",
      "Stars: 3305\n",
      "Description: DeepVariant is an analysis pipeline that uses a deep neural network to call genetic variants from next-generation DNA sequencing data.\n",
      "URL: https://github.com/google/deepvariant\n",
      "--------------------------------------------------\n",
      "Name: awesome-single-cell\n",
      "Stars: 3281\n",
      "Description: Community-curated list of software packages and data resources for single-cell, including RNA-seq, ATAC-seq, etc.\n",
      "URL: https://github.com/seandavi/awesome-single-cell\n",
      "--------------------------------------------------\n",
      "Name: Awesome-Bioinformatics\n",
      "Stars: 3274\n",
      "Description: A curated list of awesome Bioinformatics libraries and software.\n",
      "URL: https://github.com/danielecook/Awesome-Bioinformatics\n",
      "--------------------------------------------------\n",
      "Name: nextflow\n",
      "Stars: 2833\n",
      "Description: A DSL for data-driven computational pipelines\n",
      "URL: https://github.com/nextflow-io/nextflow\n",
      "--------------------------------------------------\n",
      "Name: ColabFold\n",
      "Stars: 2069\n",
      "Description: Making Protein folding accessible to all!\n",
      "URL: https://github.com/sokrypton/ColabFold\n",
      "--------------------------------------------------\n",
      "Name: fastp\n",
      "Stars: 1993\n",
      "Description: An ultra-fast all-in-one FASTQ preprocessor (QC/adapters/trimming/filtering/splitting/merging...)\n",
      "URL: https://github.com/OpenGene/fastp\n",
      "--------------------------------------------------\n"
     ]
    }
   ],
   "source": [
    "import requests\n",
    "\n",
    "# API Endpoint and Query Parameters\n",
    "BASE_URL = \"https://api.github.com/search/repositories\"\n",
    "QUERY = \"bioinformatics\"  # Search term for bioinformatics projects\n",
    "PARAMS = {\n",
    "    \"q\": QUERY,           # Only \"bioinformatics\" keyword\n",
    "    \"sort\": \"stars\",      # Sort by the most stars\n",
    "    \"order\": \"desc\",      # Descending order\n",
    "    \"per_page\": 10        # Number of results per page\n",
    "}\n",
    "\n",
    "def search_repositories():\n",
    "    try:\n",
    "        # Make the GET request\n",
    "        response = requests.get(BASE_URL, params=PARAMS)\n",
    "        response.raise_for_status()  # Raise an error for bad status codes\n",
    "        \n",
    "        # Parse the JSON response\n",
    "        results = response.json()\n",
    "        repositories = results.get(\"items\", [])\n",
    "        \n",
    "        # Display results\n",
    "        for repo in repositories:\n",
    "            print(f\"Name: {repo['name']}\")\n",
    "            print(f\"Stars: {repo['stargazers_count']}\")\n",
    "            print(f\"Description: {repo['description'] or 'No description available'}\")\n",
    "            print(f\"URL: {repo['html_url']}\")\n",
    "            print(\"-\" * 50)\n",
    "    \n",
    "    except requests.exceptions.RequestException as e:\n",
    "        print(f\"An error occurred: {e}\")\n",
    "\n",
    "# Run the function\n",
    "search_repositories()\n"
   ]
  },
  {
   "cell_type": "markdown",
   "metadata": {},
   "source": [
    "## Working with the Response Dictionary"
   ]
  },
  {
   "cell_type": "markdown",
   "metadata": {},
   "source": [
    "Now that we have the information from the API call stored as a dictionary, we can work with the data stored there"
   ]
  }
 ],
 "metadata": {
  "kernelspec": {
   "display_name": "Python 3",
   "language": "python",
   "name": "python3"
  },
  "language_info": {
   "codemirror_mode": {
    "name": "ipython",
    "version": 3
   },
   "file_extension": ".py",
   "mimetype": "text/x-python",
   "name": "python",
   "nbconvert_exporter": "python",
   "pygments_lexer": "ipython3",
   "version": "3.13.0"
  }
 },
 "nbformat": 4,
 "nbformat_minor": 2
}
